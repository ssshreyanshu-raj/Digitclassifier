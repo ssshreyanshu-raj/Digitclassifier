{
 "cells": [
  {
   "cell_type": "code",
   "execution_count": 1,
   "id": "a61f8add",
   "metadata": {
    "execution": {
     "iopub.execute_input": "2024-11-30T17:22:21.101621Z",
     "iopub.status.busy": "2024-11-30T17:22:21.101140Z",
     "iopub.status.idle": "2024-11-30T17:22:21.981328Z",
     "shell.execute_reply": "2024-11-30T17:22:21.980233Z"
    },
    "papermill": {
     "duration": 0.887731,
     "end_time": "2024-11-30T17:22:21.983763",
     "exception": false,
     "start_time": "2024-11-30T17:22:21.096032",
     "status": "completed"
    },
    "tags": []
   },
   "outputs": [],
   "source": [
    "import numpy as np\n",
    "import pandas as pd\n",
    "from matplotlib import pyplot as plt"
   ]
  },
  {
   "cell_type": "code",
   "execution_count": 2,
   "id": "2fb5f5f6",
   "metadata": {
    "execution": {
     "iopub.execute_input": "2024-11-30T17:22:21.991695Z",
     "iopub.status.busy": "2024-11-30T17:22:21.991205Z",
     "iopub.status.idle": "2024-11-30T17:22:25.293567Z",
     "shell.execute_reply": "2024-11-30T17:22:25.292591Z"
    },
    "papermill": {
     "duration": 3.309606,
     "end_time": "2024-11-30T17:22:25.296648",
     "exception": false,
     "start_time": "2024-11-30T17:22:21.987042",
     "status": "completed"
    },
    "tags": []
   },
   "outputs": [],
   "source": [
    "data=pd.read_csv('/kaggle/input/digit-recognizer/train.csv')"
   ]
  },
  {
   "cell_type": "code",
   "execution_count": 3,
   "id": "8dcf3783",
   "metadata": {
    "execution": {
     "iopub.execute_input": "2024-11-30T17:22:25.304235Z",
     "iopub.status.busy": "2024-11-30T17:22:25.303855Z",
     "iopub.status.idle": "2024-11-30T17:22:25.329756Z",
     "shell.execute_reply": "2024-11-30T17:22:25.328717Z"
    },
    "papermill": {
     "duration": 0.031961,
     "end_time": "2024-11-30T17:22:25.331778",
     "exception": false,
     "start_time": "2024-11-30T17:22:25.299817",
     "status": "completed"
    },
    "tags": []
   },
   "outputs": [
    {
     "data": {
      "text/html": [
       "<div>\n",
       "<style scoped>\n",
       "    .dataframe tbody tr th:only-of-type {\n",
       "        vertical-align: middle;\n",
       "    }\n",
       "\n",
       "    .dataframe tbody tr th {\n",
       "        vertical-align: top;\n",
       "    }\n",
       "\n",
       "    .dataframe thead th {\n",
       "        text-align: right;\n",
       "    }\n",
       "</style>\n",
       "<table border=\"1\" class=\"dataframe\">\n",
       "  <thead>\n",
       "    <tr style=\"text-align: right;\">\n",
       "      <th></th>\n",
       "      <th>label</th>\n",
       "      <th>pixel0</th>\n",
       "      <th>pixel1</th>\n",
       "      <th>pixel2</th>\n",
       "      <th>pixel3</th>\n",
       "      <th>pixel4</th>\n",
       "      <th>pixel5</th>\n",
       "      <th>pixel6</th>\n",
       "      <th>pixel7</th>\n",
       "      <th>pixel8</th>\n",
       "      <th>...</th>\n",
       "      <th>pixel774</th>\n",
       "      <th>pixel775</th>\n",
       "      <th>pixel776</th>\n",
       "      <th>pixel777</th>\n",
       "      <th>pixel778</th>\n",
       "      <th>pixel779</th>\n",
       "      <th>pixel780</th>\n",
       "      <th>pixel781</th>\n",
       "      <th>pixel782</th>\n",
       "      <th>pixel783</th>\n",
       "    </tr>\n",
       "  </thead>\n",
       "  <tbody>\n",
       "    <tr>\n",
       "      <th>0</th>\n",
       "      <td>1</td>\n",
       "      <td>0</td>\n",
       "      <td>0</td>\n",
       "      <td>0</td>\n",
       "      <td>0</td>\n",
       "      <td>0</td>\n",
       "      <td>0</td>\n",
       "      <td>0</td>\n",
       "      <td>0</td>\n",
       "      <td>0</td>\n",
       "      <td>...</td>\n",
       "      <td>0</td>\n",
       "      <td>0</td>\n",
       "      <td>0</td>\n",
       "      <td>0</td>\n",
       "      <td>0</td>\n",
       "      <td>0</td>\n",
       "      <td>0</td>\n",
       "      <td>0</td>\n",
       "      <td>0</td>\n",
       "      <td>0</td>\n",
       "    </tr>\n",
       "    <tr>\n",
       "      <th>1</th>\n",
       "      <td>0</td>\n",
       "      <td>0</td>\n",
       "      <td>0</td>\n",
       "      <td>0</td>\n",
       "      <td>0</td>\n",
       "      <td>0</td>\n",
       "      <td>0</td>\n",
       "      <td>0</td>\n",
       "      <td>0</td>\n",
       "      <td>0</td>\n",
       "      <td>...</td>\n",
       "      <td>0</td>\n",
       "      <td>0</td>\n",
       "      <td>0</td>\n",
       "      <td>0</td>\n",
       "      <td>0</td>\n",
       "      <td>0</td>\n",
       "      <td>0</td>\n",
       "      <td>0</td>\n",
       "      <td>0</td>\n",
       "      <td>0</td>\n",
       "    </tr>\n",
       "    <tr>\n",
       "      <th>2</th>\n",
       "      <td>1</td>\n",
       "      <td>0</td>\n",
       "      <td>0</td>\n",
       "      <td>0</td>\n",
       "      <td>0</td>\n",
       "      <td>0</td>\n",
       "      <td>0</td>\n",
       "      <td>0</td>\n",
       "      <td>0</td>\n",
       "      <td>0</td>\n",
       "      <td>...</td>\n",
       "      <td>0</td>\n",
       "      <td>0</td>\n",
       "      <td>0</td>\n",
       "      <td>0</td>\n",
       "      <td>0</td>\n",
       "      <td>0</td>\n",
       "      <td>0</td>\n",
       "      <td>0</td>\n",
       "      <td>0</td>\n",
       "      <td>0</td>\n",
       "    </tr>\n",
       "    <tr>\n",
       "      <th>3</th>\n",
       "      <td>4</td>\n",
       "      <td>0</td>\n",
       "      <td>0</td>\n",
       "      <td>0</td>\n",
       "      <td>0</td>\n",
       "      <td>0</td>\n",
       "      <td>0</td>\n",
       "      <td>0</td>\n",
       "      <td>0</td>\n",
       "      <td>0</td>\n",
       "      <td>...</td>\n",
       "      <td>0</td>\n",
       "      <td>0</td>\n",
       "      <td>0</td>\n",
       "      <td>0</td>\n",
       "      <td>0</td>\n",
       "      <td>0</td>\n",
       "      <td>0</td>\n",
       "      <td>0</td>\n",
       "      <td>0</td>\n",
       "      <td>0</td>\n",
       "    </tr>\n",
       "    <tr>\n",
       "      <th>4</th>\n",
       "      <td>0</td>\n",
       "      <td>0</td>\n",
       "      <td>0</td>\n",
       "      <td>0</td>\n",
       "      <td>0</td>\n",
       "      <td>0</td>\n",
       "      <td>0</td>\n",
       "      <td>0</td>\n",
       "      <td>0</td>\n",
       "      <td>0</td>\n",
       "      <td>...</td>\n",
       "      <td>0</td>\n",
       "      <td>0</td>\n",
       "      <td>0</td>\n",
       "      <td>0</td>\n",
       "      <td>0</td>\n",
       "      <td>0</td>\n",
       "      <td>0</td>\n",
       "      <td>0</td>\n",
       "      <td>0</td>\n",
       "      <td>0</td>\n",
       "    </tr>\n",
       "  </tbody>\n",
       "</table>\n",
       "<p>5 rows × 785 columns</p>\n",
       "</div>"
      ],
      "text/plain": [
       "   label  pixel0  pixel1  pixel2  pixel3  pixel4  pixel5  pixel6  pixel7  \\\n",
       "0      1       0       0       0       0       0       0       0       0   \n",
       "1      0       0       0       0       0       0       0       0       0   \n",
       "2      1       0       0       0       0       0       0       0       0   \n",
       "3      4       0       0       0       0       0       0       0       0   \n",
       "4      0       0       0       0       0       0       0       0       0   \n",
       "\n",
       "   pixel8  ...  pixel774  pixel775  pixel776  pixel777  pixel778  pixel779  \\\n",
       "0       0  ...         0         0         0         0         0         0   \n",
       "1       0  ...         0         0         0         0         0         0   \n",
       "2       0  ...         0         0         0         0         0         0   \n",
       "3       0  ...         0         0         0         0         0         0   \n",
       "4       0  ...         0         0         0         0         0         0   \n",
       "\n",
       "   pixel780  pixel781  pixel782  pixel783  \n",
       "0         0         0         0         0  \n",
       "1         0         0         0         0  \n",
       "2         0         0         0         0  \n",
       "3         0         0         0         0  \n",
       "4         0         0         0         0  \n",
       "\n",
       "[5 rows x 785 columns]"
      ]
     },
     "execution_count": 3,
     "metadata": {},
     "output_type": "execute_result"
    }
   ],
   "source": [
    "data.head()"
   ]
  },
  {
   "cell_type": "code",
   "execution_count": 4,
   "id": "e59141b1",
   "metadata": {
    "execution": {
     "iopub.execute_input": "2024-11-30T17:22:25.339776Z",
     "iopub.status.busy": "2024-11-30T17:22:25.339344Z",
     "iopub.status.idle": "2024-11-30T17:22:26.152107Z",
     "shell.execute_reply": "2024-11-30T17:22:26.150905Z"
    },
    "papermill": {
     "duration": 0.819462,
     "end_time": "2024-11-30T17:22:26.154628",
     "exception": false,
     "start_time": "2024-11-30T17:22:25.335166",
     "status": "completed"
    },
    "tags": []
   },
   "outputs": [],
   "source": [
    "data=np.array(data)\n",
    "m,n=data.shape\n",
    "np.random.shuffle(data)\n",
    "\n",
    "data_dev=data[0:1000].T\n",
    "Y_dev=data_dev[0]\n",
    "X_dev=data_dev[1:n]\n",
    "X_dev=X_dev/255\n",
    "\n",
    "data_train=data[1000:m].T\n",
    "Y_train=data_train[0]\n",
    "X_train=data_train[1:n]\n",
    "X_train=X_train/255\n",
    "_,m_train = X_train.shape"
   ]
  },
  {
   "cell_type": "code",
   "execution_count": 5,
   "id": "6db1c90d",
   "metadata": {
    "execution": {
     "iopub.execute_input": "2024-11-30T17:22:26.164095Z",
     "iopub.status.busy": "2024-11-30T17:22:26.163089Z",
     "iopub.status.idle": "2024-11-30T17:22:26.170903Z",
     "shell.execute_reply": "2024-11-30T17:22:26.169906Z"
    },
    "papermill": {
     "duration": 0.014736,
     "end_time": "2024-11-30T17:22:26.172970",
     "exception": false,
     "start_time": "2024-11-30T17:22:26.158234",
     "status": "completed"
    },
    "tags": []
   },
   "outputs": [
    {
     "data": {
      "text/plain": [
       "array([2, 1, 7, ..., 7, 7, 3])"
      ]
     },
     "execution_count": 5,
     "metadata": {},
     "output_type": "execute_result"
    }
   ],
   "source": [
    "Y_train"
   ]
  },
  {
   "cell_type": "code",
   "execution_count": 6,
   "id": "605d4193",
   "metadata": {
    "execution": {
     "iopub.execute_input": "2024-11-30T17:22:26.181897Z",
     "iopub.status.busy": "2024-11-30T17:22:26.181147Z",
     "iopub.status.idle": "2024-11-30T17:22:26.191870Z",
     "shell.execute_reply": "2024-11-30T17:22:26.190663Z"
    },
    "papermill": {
     "duration": 0.017322,
     "end_time": "2024-11-30T17:22:26.193874",
     "exception": false,
     "start_time": "2024-11-30T17:22:26.176552",
     "status": "completed"
    },
    "tags": []
   },
   "outputs": [],
   "source": [
    "def init_params():\n",
    "    W1 = np.random.rand(10, 784) - 0.5\n",
    "    b1 = np.random.rand(10, 1) - 0.5\n",
    "    W2 = np.random.rand(10, 10) - 0.5\n",
    "    b2 = np.random.rand(10, 1) - 0.5\n",
    "    return W1, b1, W2, b2\n",
    "\n",
    "def ReLU(Z):\n",
    "    return np.maximum(Z, 0)\n",
    "\n",
    "def softmax(Z):\n",
    "    A = np.exp(Z) / sum(np.exp(Z))\n",
    "    return A\n",
    "    \n",
    "def forward_prop(W1, b1, W2, b2, X):\n",
    "    Z1 = W1.dot(X) + b1\n",
    "    A1 = ReLU(Z1)\n",
    "    Z2 = W2.dot(A1) + b2\n",
    "    A2 = softmax(Z2)\n",
    "    return Z1, A1, Z2, A2\n",
    "\n",
    "def ReLU_deriv(Z):\n",
    "    return Z > 0\n",
    "\n",
    "def one_hot(Y):\n",
    "    one_hot_Y = np.zeros((Y.size, Y.max() + 1))\n",
    "    one_hot_Y[np.arange(Y.size), Y] = 1\n",
    "    one_hot_Y = one_hot_Y.T\n",
    "    return one_hot_Y\n",
    "\n",
    "def backward_prop(Z1, A1, Z2, A2, W1, W2, X, Y):\n",
    "    one_hot_Y = one_hot(Y)\n",
    "    dZ2 = A2 - one_hot_Y\n",
    "    dW2 = 1 / m * dZ2.dot(A1.T)\n",
    "    db2 = 1 / m * np.sum(dZ2)\n",
    "    dZ1 = W2.T.dot(dZ2) * ReLU_deriv(Z1)\n",
    "    dW1 = 1 / m * dZ1.dot(X.T)\n",
    "    db1 = 1 / m * np.sum(dZ1)\n",
    "    return dW1, db1, dW2, db2\n",
    "\n",
    "def update_params(W1, b1, W2, b2, dW1, db1, dW2, db2, alpha):\n",
    "    W1 = W1 - alpha * dW1\n",
    "    b1 = b1 - alpha * db1    \n",
    "    W2 = W2 - alpha * dW2  \n",
    "    b2 = b2 - alpha * db2    \n",
    "    return W1, b1, W2, b2"
   ]
  },
  {
   "cell_type": "code",
   "execution_count": 7,
   "id": "3bfb5af9",
   "metadata": {
    "execution": {
     "iopub.execute_input": "2024-11-30T17:22:26.202888Z",
     "iopub.status.busy": "2024-11-30T17:22:26.202008Z",
     "iopub.status.idle": "2024-11-30T17:22:26.209420Z",
     "shell.execute_reply": "2024-11-30T17:22:26.208434Z"
    },
    "papermill": {
     "duration": 0.014034,
     "end_time": "2024-11-30T17:22:26.211508",
     "exception": false,
     "start_time": "2024-11-30T17:22:26.197474",
     "status": "completed"
    },
    "tags": []
   },
   "outputs": [],
   "source": [
    "def get_predictions(A2):\n",
    "    return np.argmax(A2, 0)\n",
    "\n",
    "def get_accuracy(predictions, Y):\n",
    "    print(predictions, Y)\n",
    "    return np.sum(predictions == Y) / Y.size\n",
    "\n",
    "def gradient_descent(X, Y, alpha, iterations):\n",
    "    W1, b1, W2, b2 = init_params()\n",
    "    for i in range(iterations):\n",
    "        Z1, A1, Z2, A2 = forward_prop(W1, b1, W2, b2, X)\n",
    "        dW1, db1, dW2, db2 = backward_prop(Z1, A1, Z2, A2, W1, W2, X, Y)\n",
    "        W1, b1, W2, b2 = update_params(W1, b1, W2, b2, dW1, db1, dW2, db2, alpha)\n",
    "        if i % 10 == 0:\n",
    "            print(\"Iteration: \", i)\n",
    "            predictions = get_predictions(A2)\n",
    "            print(get_accuracy(predictions, Y))\n",
    "    return W1, b1, W2, b2"
   ]
  },
  {
   "cell_type": "code",
   "execution_count": 8,
   "id": "0a841aaf",
   "metadata": {
    "execution": {
     "iopub.execute_input": "2024-11-30T17:22:26.220159Z",
     "iopub.status.busy": "2024-11-30T17:22:26.219771Z",
     "iopub.status.idle": "2024-11-30T17:23:25.675262Z",
     "shell.execute_reply": "2024-11-30T17:23:25.673585Z"
    },
    "papermill": {
     "duration": 59.464116,
     "end_time": "2024-11-30T17:23:25.679170",
     "exception": false,
     "start_time": "2024-11-30T17:22:26.215054",
     "status": "completed"
    },
    "tags": []
   },
   "outputs": [
    {
     "name": "stdout",
     "output_type": "stream",
     "text": [
      "Iteration:  0\n",
      "[3 2 4 ... 8 1 2] [2 1 7 ... 7 7 3]\n",
      "0.0641219512195122\n",
      "Iteration:  10\n",
      "[0 2 4 ... 8 4 5] [2 1 7 ... 7 7 3]\n",
      "0.17936585365853658\n",
      "Iteration:  20\n",
      "[3 2 7 ... 8 0 3] [2 1 7 ... 7 7 3]\n",
      "0.2870731707317073\n",
      "Iteration:  30\n",
      "[3 1 7 ... 0 7 3] [2 1 7 ... 7 7 3]\n",
      "0.40865853658536583\n",
      "Iteration:  40\n",
      "[8 1 7 ... 0 7 3] [2 1 7 ... 7 7 3]\n",
      "0.47368292682926827\n",
      "Iteration:  50\n",
      "[8 1 7 ... 7 7 3] [2 1 7 ... 7 7 3]\n",
      "0.5185365853658537\n",
      "Iteration:  60\n",
      "[8 1 7 ... 7 7 3] [2 1 7 ... 7 7 3]\n",
      "0.555829268292683\n",
      "Iteration:  70\n",
      "[8 1 7 ... 7 7 3] [2 1 7 ... 7 7 3]\n",
      "0.5886097560975609\n",
      "Iteration:  80\n",
      "[8 1 7 ... 7 7 3] [2 1 7 ... 7 7 3]\n",
      "0.619219512195122\n",
      "Iteration:  90\n",
      "[8 1 7 ... 7 7 3] [2 1 7 ... 7 7 3]\n",
      "0.6450487804878049\n",
      "Iteration:  100\n",
      "[8 1 7 ... 7 7 3] [2 1 7 ... 7 7 3]\n",
      "0.6655853658536586\n",
      "Iteration:  110\n",
      "[8 1 7 ... 7 7 3] [2 1 7 ... 7 7 3]\n",
      "0.685219512195122\n",
      "Iteration:  120\n",
      "[8 1 7 ... 7 7 3] [2 1 7 ... 7 7 3]\n",
      "0.7023658536585365\n",
      "Iteration:  130\n",
      "[8 1 7 ... 7 7 3] [2 1 7 ... 7 7 3]\n",
      "0.7162439024390244\n",
      "Iteration:  140\n",
      "[8 1 7 ... 7 7 3] [2 1 7 ... 7 7 3]\n",
      "0.728780487804878\n",
      "Iteration:  150\n",
      "[8 1 7 ... 7 7 3] [2 1 7 ... 7 7 3]\n",
      "0.7386341463414634\n",
      "Iteration:  160\n",
      "[8 1 7 ... 7 7 3] [2 1 7 ... 7 7 3]\n",
      "0.7480975609756098\n",
      "Iteration:  170\n",
      "[8 1 7 ... 7 7 3] [2 1 7 ... 7 7 3]\n",
      "0.7566829268292683\n",
      "Iteration:  180\n",
      "[8 1 7 ... 7 7 3] [2 1 7 ... 7 7 3]\n",
      "0.7640487804878049\n",
      "Iteration:  190\n",
      "[8 1 7 ... 7 7 3] [2 1 7 ... 7 7 3]\n",
      "0.7708048780487805\n",
      "Iteration:  200\n",
      "[8 1 7 ... 7 7 3] [2 1 7 ... 7 7 3]\n",
      "0.7769512195121951\n",
      "Iteration:  210\n",
      "[3 1 7 ... 7 7 3] [2 1 7 ... 7 7 3]\n",
      "0.7822682926829269\n",
      "Iteration:  220\n",
      "[3 1 7 ... 7 7 3] [2 1 7 ... 7 7 3]\n",
      "0.7877073170731708\n",
      "Iteration:  230\n",
      "[3 1 7 ... 7 7 3] [2 1 7 ... 7 7 3]\n",
      "0.792219512195122\n",
      "Iteration:  240\n",
      "[3 1 7 ... 7 7 3] [2 1 7 ... 7 7 3]\n",
      "0.7965121951219513\n",
      "Iteration:  250\n",
      "[3 1 7 ... 7 7 3] [2 1 7 ... 7 7 3]\n",
      "0.8005853658536586\n",
      "Iteration:  260\n",
      "[3 1 7 ... 7 7 3] [2 1 7 ... 7 7 3]\n",
      "0.8039756097560976\n",
      "Iteration:  270\n",
      "[3 1 7 ... 7 7 3] [2 1 7 ... 7 7 3]\n",
      "0.8076829268292683\n",
      "Iteration:  280\n",
      "[3 1 7 ... 7 7 3] [2 1 7 ... 7 7 3]\n",
      "0.8105609756097562\n",
      "Iteration:  290\n",
      "[3 1 7 ... 7 7 3] [2 1 7 ... 7 7 3]\n",
      "0.813560975609756\n",
      "Iteration:  300\n",
      "[3 1 7 ... 7 7 3] [2 1 7 ... 7 7 3]\n",
      "0.8166829268292682\n",
      "Iteration:  310\n",
      "[3 1 7 ... 7 7 3] [2 1 7 ... 7 7 3]\n",
      "0.8186341463414634\n",
      "Iteration:  320\n",
      "[3 1 7 ... 7 7 3] [2 1 7 ... 7 7 3]\n",
      "0.8214878048780487\n",
      "Iteration:  330\n",
      "[3 1 7 ... 7 7 3] [2 1 7 ... 7 7 3]\n",
      "0.8239756097560975\n",
      "Iteration:  340\n",
      "[3 1 7 ... 7 7 3] [2 1 7 ... 7 7 3]\n",
      "0.8262195121951219\n",
      "Iteration:  350\n",
      "[3 1 7 ... 7 7 3] [2 1 7 ... 7 7 3]\n",
      "0.8287317073170731\n",
      "Iteration:  360\n",
      "[3 1 7 ... 7 7 3] [2 1 7 ... 7 7 3]\n",
      "0.8305853658536585\n",
      "Iteration:  370\n",
      "[3 1 7 ... 7 7 3] [2 1 7 ... 7 7 3]\n",
      "0.8324146341463414\n",
      "Iteration:  380\n",
      "[3 1 7 ... 7 7 3] [2 1 7 ... 7 7 3]\n",
      "0.8340243902439024\n",
      "Iteration:  390\n",
      "[3 1 7 ... 7 7 3] [2 1 7 ... 7 7 3]\n",
      "0.8361951219512195\n",
      "Iteration:  400\n",
      "[3 1 7 ... 7 7 3] [2 1 7 ... 7 7 3]\n",
      "0.8379024390243902\n",
      "Iteration:  410\n",
      "[3 1 7 ... 7 7 3] [2 1 7 ... 7 7 3]\n",
      "0.8399024390243902\n",
      "Iteration:  420\n",
      "[7 1 7 ... 7 7 3] [2 1 7 ... 7 7 3]\n",
      "0.8412195121951219\n",
      "Iteration:  430\n",
      "[7 1 7 ... 7 7 3] [2 1 7 ... 7 7 3]\n",
      "0.8429756097560975\n",
      "Iteration:  440\n",
      "[7 1 7 ... 7 7 3] [2 1 7 ... 7 7 3]\n",
      "0.8441951219512195\n",
      "Iteration:  450\n",
      "[7 1 7 ... 7 7 3] [2 1 7 ... 7 7 3]\n",
      "0.845780487804878\n",
      "Iteration:  460\n",
      "[7 1 7 ... 7 7 3] [2 1 7 ... 7 7 3]\n",
      "0.847170731707317\n",
      "Iteration:  470\n",
      "[7 1 7 ... 7 7 3] [2 1 7 ... 7 7 3]\n",
      "0.8484146341463414\n",
      "Iteration:  480\n",
      "[7 1 7 ... 7 7 3] [2 1 7 ... 7 7 3]\n",
      "0.8500731707317073\n",
      "Iteration:  490\n",
      "[7 1 7 ... 7 7 3] [2 1 7 ... 7 7 3]\n",
      "0.8515365853658536\n"
     ]
    }
   ],
   "source": [
    "W1,b1,W2,b2= gradient_descent(X_train,Y_train,0.12,500)"
   ]
  },
  {
   "cell_type": "code",
   "execution_count": 9,
   "id": "b26dbd88",
   "metadata": {
    "execution": {
     "iopub.execute_input": "2024-11-30T17:23:25.717184Z",
     "iopub.status.busy": "2024-11-30T17:23:25.716544Z",
     "iopub.status.idle": "2024-11-30T17:23:25.733848Z",
     "shell.execute_reply": "2024-11-30T17:23:25.732420Z"
    },
    "papermill": {
     "duration": 0.041562,
     "end_time": "2024-11-30T17:23:25.738665",
     "exception": false,
     "start_time": "2024-11-30T17:23:25.697103",
     "status": "completed"
    },
    "tags": []
   },
   "outputs": [],
   "source": [
    "def make_predictions(X, W1, b1, W2, b2):\n",
    "    _, _, _, A2 = forward_prop(W1, b1, W2, b2, X)\n",
    "    predictions = get_predictions(A2)\n",
    "    return predictions\n",
    "\n",
    "def test_prediction(index, W1, b1, W2, b2):\n",
    "    current_image = X_train[:, index, None]\n",
    "    prediction = make_predictions(X_train[:, index, None], W1, b1, W2, b2)\n",
    "    label = Y_train[index]\n",
    "    print(\"Prediction: \", prediction)\n",
    "    print(\"Label: \", label)\n",
    "    \n",
    "    current_image = current_image.reshape((28, 28)) * 255\n",
    "    plt.gray()\n",
    "    plt.imshow(current_image, interpolation='nearest')\n",
    "    plt.show()"
   ]
  },
  {
   "cell_type": "code",
   "execution_count": 10,
   "id": "4b90a096",
   "metadata": {
    "execution": {
     "iopub.execute_input": "2024-11-30T17:23:25.775852Z",
     "iopub.status.busy": "2024-11-30T17:23:25.775178Z",
     "iopub.status.idle": "2024-11-30T17:23:26.661612Z",
     "shell.execute_reply": "2024-11-30T17:23:26.660550Z"
    },
    "papermill": {
     "duration": 0.90756,
     "end_time": "2024-11-30T17:23:26.663582",
     "exception": false,
     "start_time": "2024-11-30T17:23:25.756022",
     "status": "completed"
    },
    "tags": []
   },
   "outputs": [
    {
     "name": "stdout",
     "output_type": "stream",
     "text": [
      "Prediction:  [3]\n",
      "Label:  3\n"
     ]
    },
    {
     "data": {
      "image/png": "[encoded data removed]",
      "text/plain": [
       "<Figure size 640x480 with 1 Axes>"
      ]
     },
     "metadata": {},
     "output_type": "display_data"
    },
    {
     "name": "stdout",
     "output_type": "stream",
     "text": [
      "Prediction:  [1]\n",
      "Label:  1\n"
     ]
    },
    {
     "data": {
      "image/png": "[encoded data removed]",
      "text/plain": [
       "<Figure size 640x480 with 1 Axes>"
      ]
     },
     "metadata": {},
     "output_type": "display_data"
    },
    {
     "name": "stdout",
     "output_type": "stream",
     "text": [
      "Prediction:  [2]\n",
      "Label:  2\n"
     ]
    },
    {
     "data": {
      "image/png": "[encoded data removed]",
      "text/plain": [
       "<Figure size 640x480 with 1 Axes>"
      ]
     },
     "metadata": {},
     "output_type": "display_data"
    },
    {
     "name": "stdout",
     "output_type": "stream",
     "text": [
      "Prediction:  [7]\n",
      "Label:  2\n"
     ]
    },
    {
     "data": {
      "image/png": "[encoded data removed]",
      "text/plain": [
       "<Figure size 640x480 with 1 Axes>"
      ]
     },
     "metadata": {},
     "output_type": "display_data"
    }
   ],
   "source": [
    "test_prediction(10, W1, b1, W2, b2)\n",
    "test_prediction(7, W1, b1, W2, b2)\n",
    "test_prediction(3, W1, b1, W2, b2)\n",
    "test_prediction(0, W1, b1, W2, b2)"
   ]
  },
  {
   "cell_type": "code",
   "execution_count": 11,
   "id": "f887f7dd",
   "metadata": {
    "execution": {
     "iopub.execute_input": "2024-11-30T17:23:26.686099Z",
     "iopub.status.busy": "2024-11-30T17:23:26.684918Z",
     "iopub.status.idle": "2024-11-30T17:23:26.712293Z",
     "shell.execute_reply": "2024-11-30T17:23:26.709285Z"
    },
    "papermill": {
     "duration": 0.04645,
     "end_time": "2024-11-30T17:23:26.718251",
     "exception": false,
     "start_time": "2024-11-30T17:23:26.671801",
     "status": "completed"
    },
    "tags": []
   },
   "outputs": [
    {
     "name": "stdout",
     "output_type": "stream",
     "text": [
      "[2 4 1 4 9 7 0 3 6 1 8 9 4 1 2 8 0 1 9 3 4 6 3 7 1 9 0 0 5 2 3 1 1 4 5 4 5\n",
      " 2 6 5 1 7 2 1 9 1 0 2 4 4 1 6 3 2 2 6 7 3 0 5 9 1 9 2 1 7 9 5 6 4 1 2 7 2\n",
      " 6 6 7 8 4 5 1 7 1 5 8 4 7 0 0 7 8 0 8 1 0 3 3 5 3 7 1 1 6 3 0 9 1 2 6 9 3\n",
      " 2 8 9 0 8 7 1 9 1 0 9 5 7 3 8 3 8 5 9 3 4 8 6 1 4 1 0 4 5 8 1 1 0 7 6 2 2\n",
      " 5 8 4 4 8 7 5 7 7 4 9 0 7 3 1 1 9 7 6 9 7 9 4 0 8 8 0 6 4 4 7 4 6 1 1 3 6\n",
      " 7 0 9 8 7 6 3 2 7 3 1 3 1 3 1 3 1 7 4 0 2 3 8 3 2 8 1 4 9 1 5 1 1 5 1 6 6\n",
      " 5 9 4 5 2 4 6 0 3 8 9 3 7 7 2 8 7 1 1 6 1 3 6 9 4 7 1 4 2 2 6 8 0 1 4 3 3\n",
      " 2 9 0 2 8 1 2 9 8 4 6 0 6 2 5 9 7 8 1 4 9 3 2 8 8 5 2 0 8 8 7 3 8 2 6 3 1\n",
      " 0 1 5 9 7 3 7 3 4 3 5 3 1 7 4 1 4 1 0 7 0 4 0 2 4 9 1 7 6 9 3 0 4 0 8 1 9\n",
      " 8 7 1 1 8 7 2 9 6 1 1 5 9 8 1 2 8 0 8 6 8 9 9 7 9 2 3 2 3 4 0 9 0 7 8 0 2\n",
      " 7 4 6 0 1 0 5 1 0 6 7 2 8 4 3 6 8 7 2 6 9 3 5 6 8 9 1 0 1 1 9 9 5 4 0 0 8\n",
      " 0 7 4 4 3 6 9 6 9 4 7 4 8 0 2 1 4 4 1 3 9 1 5 9 4 6 8 7 3 8 3 4 9 0 8 4 3\n",
      " 9 1 9 0 1 4 8 2 3 3 9 4 5 1 2 6 4 3 7 4 9 3 3 7 8 1 1 2 0 9 9 2 2 3 4 2 2\n",
      " 1 2 7 0 1 1 4 0 5 2 2 0 3 3 7 4 3 7 4 9 6 1 1 4 3 3 7 2 6 4 2 5 9 8 2 0 1\n",
      " 1 2 5 4 0 3 0 3 0 0 6 9 3 3 3 6 6 6 3 9 5 2 1 9 4 7 7 7 9 4 0 3 0 8 9 0 0\n",
      " 4 8 8 5 9 7 9 5 9 9 2 9 1 0 2 5 5 3 6 4 6 7 1 5 4 8 7 6 4 9 7 1 9 3 1 1 4\n",
      " 9 0 7 0 7 5 9 4 9 4 6 7 4 3 8 8 7 2 7 7 3 0 4 0 9 9 5 3 7 9 3 7 3 6 9 6 7\n",
      " 4 2 7 0 5 5 1 9 2 9 9 9 1 3 9 6 1 2 2 5 3 0 5 1 3 5 0 6 4 5 3 6 3 3 2 2 3\n",
      " 1 3 3 7 2 9 0 5 5 4 5 4 7 6 1 9 7 4 6 7 1 5 4 4 2 2 4 9 9 0 8 1 7 8 6 6 3\n",
      " 2 9 8 0 1 9 1 4 1 1 3 9 3 9 4 9 1 7 0 4 0 2 4 4 4 7 3 2 1 4 1 5 5 1 1 9 1\n",
      " 9 6 5 9 5 5 7 3 1 6 1 4 8 7 2 1 6 9 0 8 9 8 0 3 8 8 2 8 6 7 1 1 5 9 6 1 7\n",
      " 9 5 5 6 6 0 8 3 2 0 7 7 4 3 6 9 1 4 8 1 1 2 1 5 5 5 7 2 6 8 1 5 3 9 9 8 6\n",
      " 1 9 2 8 5 5 8 6 3 0 0 0 9 8 1 6 6 9 4 5 8 6 2 3 9 7 1 4 4 4 2 3 4 5 4 2 2\n",
      " 9 0 8 4 5 9 4 6 0 4 2 4 6 7 5 4 2 7 9 9 2 9 7 1 9 0 6 7 1 2 0 2 9 0 6 4 9\n",
      " 9 8 1 2 6 8 7 6 9 7 0 4 6 7 1 6 3 9 3 9 5 8 7 5 4 8 0 6 4 6 3 5 4 1 1 2 0\n",
      " 3 1 5 2 3 0 1 6 5 1 2 7 0 7 1 7 8 0 2 4 5 6 8 7 5 2 7 6 0 8 0 9 1 2 4 8 3\n",
      " 0 3 0 7 7 9 1 2 8 2 8 9 7 9 3 4 3 3 3 9 2 5 5 7 1 5 6 9 0 1 9 5 4 1 4 2 5\n",
      " 6] [2 4 1 4 9 7 0 3 2 1 5 9 4 1 2 8 0 1 5 3 4 6 3 7 1 9 0 5 5 2 3 1 1 5 8 4 5\n",
      " 2 5 8 2 7 4 1 9 1 0 2 4 6 1 6 2 2 2 4 9 3 0 5 4 1 9 2 1 7 0 5 6 7 1 2 7 2\n",
      " 6 6 7 8 4 3 1 7 1 5 9 4 7 0 0 7 8 0 5 1 0 3 3 5 3 7 1 1 6 3 0 9 1 3 6 9 8\n",
      " 2 8 9 0 8 7 1 9 1 0 9 5 7 3 5 3 8 5 9 3 4 8 6 2 4 1 0 4 3 8 1 1 0 7 6 5 2\n",
      " 5 8 4 4 8 7 5 7 7 4 9 0 7 8 1 1 9 2 6 9 7 9 4 0 8 5 0 6 9 4 7 4 6 1 1 3 6\n",
      " 7 0 9 2 7 5 5 2 7 3 1 3 1 3 1 3 1 7 4 0 2 3 8 5 2 3 1 4 9 1 5 1 1 5 6 6 6\n",
      " 5 9 6 3 2 4 6 0 3 8 9 5 9 2 2 8 7 1 1 6 1 3 5 9 4 7 1 4 7 2 6 8 0 1 4 3 3\n",
      " 2 9 0 2 3 1 2 9 8 4 6 0 6 2 5 4 7 8 1 4 9 3 2 8 4 6 2 0 8 8 7 3 8 4 6 3 1\n",
      " 0 1 5 9 7 3 7 3 4 8 3 3 1 7 4 1 4 1 0 7 0 4 0 7 4 9 1 7 6 7 3 0 4 0 2 1 9\n",
      " 8 7 1 1 8 7 2 9 6 1 1 5 9 8 1 2 8 0 8 6 8 9 9 7 9 2 3 2 3 4 0 9 5 7 8 0 2\n",
      " 2 4 6 0 1 0 3 1 0 2 7 2 8 4 5 6 8 7 2 9 9 3 5 6 8 8 1 0 1 1 9 9 5 2 0 0 8\n",
      " 5 7 4 4 3 6 9 6 9 4 2 4 8 0 2 1 4 4 1 3 7 1 5 9 4 5 8 7 3 8 3 4 9 0 8 4 3\n",
      " 9 1 9 0 1 4 8 2 3 3 9 4 5 1 2 6 4 3 0 5 9 3 3 7 8 1 1 2 0 9 9 2 2 3 4 2 2\n",
      " 1 2 7 0 1 1 4 0 5 2 2 0 3 3 7 4 8 7 4 9 6 1 1 4 3 3 7 2 6 6 2 5 4 8 1 0 1\n",
      " 1 2 5 0 0 3 0 3 0 0 6 9 3 3 2 6 0 2 3 9 5 2 1 9 4 7 7 7 4 4 0 8 0 8 9 0 0\n",
      " 4 3 8 0 7 7 9 9 9 9 8 9 1 0 2 3 5 3 6 9 6 7 1 5 7 8 7 6 4 9 7 1 9 3 1 9 4\n",
      " 9 0 7 0 7 3 9 4 9 4 6 7 4 3 8 8 7 2 7 7 5 0 4 0 9 9 9 3 7 9 3 7 3 6 9 6 7\n",
      " 4 7 7 0 5 5 1 9 2 9 9 9 1 3 9 4 1 2 2 5 3 0 5 1 3 3 0 6 4 5 3 2 3 3 2 2 3\n",
      " 1 3 3 7 2 9 0 5 3 4 3 4 7 6 1 9 7 4 6 7 1 5 4 4 5 2 4 9 9 0 8 2 7 8 6 6 3\n",
      " 2 9 8 0 1 9 1 4 1 1 3 9 3 7 4 4 1 7 0 4 6 1 4 9 4 7 5 0 1 4 1 5 5 1 1 9 1\n",
      " 9 6 5 9 5 3 7 3 1 6 1 4 8 7 2 1 6 9 0 9 9 8 0 8 8 8 2 8 6 9 1 1 5 9 2 1 7\n",
      " 5 5 5 6 4 7 8 3 7 0 7 7 4 3 6 4 1 9 5 2 1 2 1 5 5 5 7 2 6 8 1 5 5 4 9 8 6\n",
      " 1 4 2 2 5 5 8 6 3 0 0 0 9 8 1 6 6 7 4 2 8 6 2 3 9 7 1 4 4 9 2 3 4 5 4 2 2\n",
      " 9 0 1 4 8 7 2 6 0 9 2 4 6 7 5 4 2 7 9 9 2 9 7 1 9 5 6 7 1 2 0 2 9 0 6 4 8\n",
      " 9 8 1 2 6 8 7 2 9 7 0 4 6 7 1 6 3 9 3 9 5 8 7 5 2 8 0 6 4 6 3 5 2 1 1 2 0\n",
      " 3 1 3 2 3 0 4 6 8 3 2 7 5 7 1 7 2 0 2 4 5 6 2 7 5 2 7 6 0 1 0 9 1 2 4 8 3\n",
      " 0 3 0 7 7 9 1 2 8 2 8 9 7 9 8 9 3 2 3 9 2 5 5 7 1 3 6 9 0 1 8 5 4 1 4 3 5\n",
      " 0]\n"
     ]
    },
    {
     "data": {
      "text/plain": [
       "0.851"
      ]
     },
     "execution_count": 11,
     "metadata": {},
     "output_type": "execute_result"
    }
   ],
   "source": [
    "dev_predictions = make_predictions(X_dev, W1, b1, W2, b2)\n",
    "get_accuracy(dev_predictions, Y_dev)"
   ]
  }
 ],
 "metadata": {
  "kaggle": {
   "accelerator": "none",
   "dataSources": [
    {
     "databundleVersionId": 861823,
     "sourceId": 3004,
     "sourceType": "competition"
    }
   ],
   "dockerImageVersionId": 30761,
   "isGpuEnabled": false,
   "isInternetEnabled": false,
   "language": "python",
   "sourceType": "notebook"
  },
  "kernelspec": {
   "display_name": "Python 3",
   "language": "python",
   "name": "python3"
  },
  "language_info": {
   "codemirror_mode": {
    "name": "ipython",
    "version": 3
   },
   "file_extension": ".py",
   "mimetype": "text/x-python",
   "name": "python",
   "nbconvert_exporter": "python",
   "pygments_lexer": "ipython3",
   "version": "3.10.14"
  },
  "papermill": {
   "default_parameters": {},
   "duration": 68.961583,
   "end_time": "2024-11-30T17:23:27.365570",
   "environment_variables": {},
   "exception": null,
   "input_path": "__notebook__.ipynb",
   "output_path": "__notebook__.ipynb",
   "parameters": {},
   "start_time": "2024-11-30T17:22:18.403987",
   "version": "2.6.0"
  }
 },
 "nbformat": 4,
 "nbformat_minor": 5
}
