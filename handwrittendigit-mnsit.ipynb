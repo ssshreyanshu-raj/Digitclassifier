{
 "cells": [
  {
   "cell_type": "code",
   "execution_count": 1,
   "id": "57ef907e",
   "metadata": {
    "execution": {
     "iopub.execute_input": "2024-11-10T04:59:44.683665Z",
     "iopub.status.busy": "2024-11-10T04:59:44.683111Z",
     "iopub.status.idle": "2024-11-10T04:59:45.511154Z",
     "shell.execute_reply": "2024-11-10T04:59:45.510218Z"
    },
    "papermill": {
     "duration": 0.837802,
     "end_time": "2024-11-10T04:59:45.513875",
     "exception": false,
     "start_time": "2024-11-10T04:59:44.676073",
     "status": "completed"
    },
    "tags": []
   },
   "outputs": [],
   "source": [
    "import numpy as np\n",
    "import pandas as pd\n",
    "from matplotlib import pyplot as plt"
   ]
  },
  {
   "cell_type": "code",
   "execution_count": 2,
   "id": "cd097571",
   "metadata": {
    "execution": {
     "iopub.execute_input": "2024-11-10T04:59:45.524852Z",
     "iopub.status.busy": "2024-11-10T04:59:45.524342Z",
     "iopub.status.idle": "2024-11-10T04:59:49.572759Z",
     "shell.execute_reply": "2024-11-10T04:59:49.571795Z"
    },
    "papermill": {
     "duration": 4.056677,
     "end_time": "2024-11-10T04:59:49.575426",
     "exception": false,
     "start_time": "2024-11-10T04:59:45.518749",
     "status": "completed"
    },
    "tags": []
   },
   "outputs": [],
   "source": [
    "data=pd.read_csv('/kaggle/input/digit-recognizer/train.csv')"
   ]
  },
  {
   "cell_type": "code",
   "execution_count": 3,
   "id": "a73093b4",
   "metadata": {
    "execution": {
     "iopub.execute_input": "2024-11-10T04:59:49.586329Z",
     "iopub.status.busy": "2024-11-10T04:59:49.585943Z",
     "iopub.status.idle": "2024-11-10T04:59:49.616002Z",
     "shell.execute_reply": "2024-11-10T04:59:49.615017Z"
    },
    "papermill": {
     "duration": 0.038291,
     "end_time": "2024-11-10T04:59:49.618435",
     "exception": false,
     "start_time": "2024-11-10T04:59:49.580144",
     "status": "completed"
    },
    "tags": []
   },
   "outputs": [
    {
     "data": {
      "text/html": [
       "<div>\n",
       "<style scoped>\n",
       "    .dataframe tbody tr th:only-of-type {\n",
       "        vertical-align: middle;\n",
       "    }\n",
       "\n",
       "    .dataframe tbody tr th {\n",
       "        vertical-align: top;\n",
       "    }\n",
       "\n",
       "    .dataframe thead th {\n",
       "        text-align: right;\n",
       "    }\n",
       "</style>\n",
       "<table border=\"1\" class=\"dataframe\">\n",
       "  <thead>\n",
       "    <tr style=\"text-align: right;\">\n",
       "      <th></th>\n",
       "      <th>label</th>\n",
       "      <th>pixel0</th>\n",
       "      <th>pixel1</th>\n",
       "      <th>pixel2</th>\n",
       "      <th>pixel3</th>\n",
       "      <th>pixel4</th>\n",
       "      <th>pixel5</th>\n",
       "      <th>pixel6</th>\n",
       "      <th>pixel7</th>\n",
       "      <th>pixel8</th>\n",
       "      <th>...</th>\n",
       "      <th>pixel774</th>\n",
       "      <th>pixel775</th>\n",
       "      <th>pixel776</th>\n",
       "      <th>pixel777</th>\n",
       "      <th>pixel778</th>\n",
       "      <th>pixel779</th>\n",
       "      <th>pixel780</th>\n",
       "      <th>pixel781</th>\n",
       "      <th>pixel782</th>\n",
       "      <th>pixel783</th>\n",
       "    </tr>\n",
       "  </thead>\n",
       "  <tbody>\n",
       "    <tr>\n",
       "      <th>0</th>\n",
       "      <td>1</td>\n",
       "      <td>0</td>\n",
       "      <td>0</td>\n",
       "      <td>0</td>\n",
       "      <td>0</td>\n",
       "      <td>0</td>\n",
       "      <td>0</td>\n",
       "      <td>0</td>\n",
       "      <td>0</td>\n",
       "      <td>0</td>\n",
       "      <td>...</td>\n",
       "      <td>0</td>\n",
       "      <td>0</td>\n",
       "      <td>0</td>\n",
       "      <td>0</td>\n",
       "      <td>0</td>\n",
       "      <td>0</td>\n",
       "      <td>0</td>\n",
       "      <td>0</td>\n",
       "      <td>0</td>\n",
       "      <td>0</td>\n",
       "    </tr>\n",
       "    <tr>\n",
       "      <th>1</th>\n",
       "      <td>0</td>\n",
       "      <td>0</td>\n",
       "      <td>0</td>\n",
       "      <td>0</td>\n",
       "      <td>0</td>\n",
       "      <td>0</td>\n",
       "      <td>0</td>\n",
       "      <td>0</td>\n",
       "      <td>0</td>\n",
       "      <td>0</td>\n",
       "      <td>...</td>\n",
       "      <td>0</td>\n",
       "      <td>0</td>\n",
       "      <td>0</td>\n",
       "      <td>0</td>\n",
       "      <td>0</td>\n",
       "      <td>0</td>\n",
       "      <td>0</td>\n",
       "      <td>0</td>\n",
       "      <td>0</td>\n",
       "      <td>0</td>\n",
       "    </tr>\n",
       "    <tr>\n",
       "      <th>2</th>\n",
       "      <td>1</td>\n",
       "      <td>0</td>\n",
       "      <td>0</td>\n",
       "      <td>0</td>\n",
       "      <td>0</td>\n",
       "      <td>0</td>\n",
       "      <td>0</td>\n",
       "      <td>0</td>\n",
       "      <td>0</td>\n",
       "      <td>0</td>\n",
       "      <td>...</td>\n",
       "      <td>0</td>\n",
       "      <td>0</td>\n",
       "      <td>0</td>\n",
       "      <td>0</td>\n",
       "      <td>0</td>\n",
       "      <td>0</td>\n",
       "      <td>0</td>\n",
       "      <td>0</td>\n",
       "      <td>0</td>\n",
       "      <td>0</td>\n",
       "    </tr>\n",
       "    <tr>\n",
       "      <th>3</th>\n",
       "      <td>4</td>\n",
       "      <td>0</td>\n",
       "      <td>0</td>\n",
       "      <td>0</td>\n",
       "      <td>0</td>\n",
       "      <td>0</td>\n",
       "      <td>0</td>\n",
       "      <td>0</td>\n",
       "      <td>0</td>\n",
       "      <td>0</td>\n",
       "      <td>...</td>\n",
       "      <td>0</td>\n",
       "      <td>0</td>\n",
       "      <td>0</td>\n",
       "      <td>0</td>\n",
       "      <td>0</td>\n",
       "      <td>0</td>\n",
       "      <td>0</td>\n",
       "      <td>0</td>\n",
       "      <td>0</td>\n",
       "      <td>0</td>\n",
       "    </tr>\n",
       "    <tr>\n",
       "      <th>4</th>\n",
       "      <td>0</td>\n",
       "      <td>0</td>\n",
       "      <td>0</td>\n",
       "      <td>0</td>\n",
       "      <td>0</td>\n",
       "      <td>0</td>\n",
       "      <td>0</td>\n",
       "      <td>0</td>\n",
       "      <td>0</td>\n",
       "      <td>0</td>\n",
       "      <td>...</td>\n",
       "      <td>0</td>\n",
       "      <td>0</td>\n",
       "      <td>0</td>\n",
       "      <td>0</td>\n",
       "      <td>0</td>\n",
       "      <td>0</td>\n",
       "      <td>0</td>\n",
       "      <td>0</td>\n",
       "      <td>0</td>\n",
       "      <td>0</td>\n",
       "    </tr>\n",
       "  </tbody>\n",
       "</table>\n",
       "<p>5 rows × 785 columns</p>\n",
       "</div>"
      ],
      "text/plain": [
       "   label  pixel0  pixel1  pixel2  pixel3  pixel4  pixel5  pixel6  pixel7  \\\n",
       "0      1       0       0       0       0       0       0       0       0   \n",
       "1      0       0       0       0       0       0       0       0       0   \n",
       "2      1       0       0       0       0       0       0       0       0   \n",
       "3      4       0       0       0       0       0       0       0       0   \n",
       "4      0       0       0       0       0       0       0       0       0   \n",
       "\n",
       "   pixel8  ...  pixel774  pixel775  pixel776  pixel777  pixel778  pixel779  \\\n",
       "0       0  ...         0         0         0         0         0         0   \n",
       "1       0  ...         0         0         0         0         0         0   \n",
       "2       0  ...         0         0         0         0         0         0   \n",
       "3       0  ...         0         0         0         0         0         0   \n",
       "4       0  ...         0         0         0         0         0         0   \n",
       "\n",
       "   pixel780  pixel781  pixel782  pixel783  \n",
       "0         0         0         0         0  \n",
       "1         0         0         0         0  \n",
       "2         0         0         0         0  \n",
       "3         0         0         0         0  \n",
       "4         0         0         0         0  \n",
       "\n",
       "[5 rows x 785 columns]"
      ]
     },
     "execution_count": 3,
     "metadata": {},
     "output_type": "execute_result"
    }
   ],
   "source": [
    "data.head()"
   ]
  },
  {
   "cell_type": "code",
   "execution_count": 4,
   "id": "055ac9c8",
   "metadata": {
    "execution": {
     "iopub.execute_input": "2024-11-10T04:59:49.629911Z",
     "iopub.status.busy": "2024-11-10T04:59:49.629171Z",
     "iopub.status.idle": "2024-11-10T04:59:50.497259Z",
     "shell.execute_reply": "2024-11-10T04:59:50.496137Z"
    },
    "papermill": {
     "duration": 0.876813,
     "end_time": "2024-11-10T04:59:50.500230",
     "exception": false,
     "start_time": "2024-11-10T04:59:49.623417",
     "status": "completed"
    },
    "tags": []
   },
   "outputs": [],
   "source": [
    "data=np.array(data)\n",
    "m,n=data.shape\n",
    "np.random.shuffle(data)\n",
    "\n",
    "data_dev=data[0:1000].T\n",
    "Y_dev=data_dev[0]\n",
    "X_dev=data_dev[1:n]\n",
    "X_dev=X_dev/255\n",
    "\n",
    "data_train=data[1000:m].T\n",
    "Y_train=data_train[0]\n",
    "X_train=data_train[1:n]\n",
    "X_train=X_train/255\n",
    "_,m_train = X_train.shape"
   ]
  },
  {
   "cell_type": "code",
   "execution_count": 5,
   "id": "1a68d177",
   "metadata": {
    "execution": {
     "iopub.execute_input": "2024-11-10T04:59:50.512016Z",
     "iopub.status.busy": "2024-11-10T04:59:50.511631Z",
     "iopub.status.idle": "2024-11-10T04:59:50.519771Z",
     "shell.execute_reply": "2024-11-10T04:59:50.518708Z"
    },
    "papermill": {
     "duration": 0.016813,
     "end_time": "2024-11-10T04:59:50.522200",
     "exception": false,
     "start_time": "2024-11-10T04:59:50.505387",
     "status": "completed"
    },
    "tags": []
   },
   "outputs": [
    {
     "data": {
      "text/plain": [
       "array([5, 1, 1, ..., 7, 2, 7])"
      ]
     },
     "execution_count": 5,
     "metadata": {},
     "output_type": "execute_result"
    }
   ],
   "source": [
    "Y_train"
   ]
  },
  {
   "cell_type": "code",
   "execution_count": 6,
   "id": "3ac96d87",
   "metadata": {
    "execution": {
     "iopub.execute_input": "2024-11-10T04:59:50.533817Z",
     "iopub.status.busy": "2024-11-10T04:59:50.533394Z",
     "iopub.status.idle": "2024-11-10T04:59:50.547968Z",
     "shell.execute_reply": "2024-11-10T04:59:50.546886Z"
    },
    "papermill": {
     "duration": 0.022945,
     "end_time": "2024-11-10T04:59:50.550215",
     "exception": false,
     "start_time": "2024-11-10T04:59:50.527270",
     "status": "completed"
    },
    "tags": []
   },
   "outputs": [],
   "source": [
    "def init_params():\n",
    "    W1 = np.random.rand(10, 784) - 0.5\n",
    "    b1 = np.random.rand(10, 1) - 0.5\n",
    "    W2 = np.random.rand(10, 10) - 0.5\n",
    "    b2 = np.random.rand(10, 1) - 0.5\n",
    "    return W1, b1, W2, b2\n",
    "\n",
    "def ReLU(Z):\n",
    "    return np.maximum(Z, 0)\n",
    "\n",
    "def softmax(Z):\n",
    "    A = np.exp(Z) / sum(np.exp(Z))\n",
    "    return A\n",
    "    \n",
    "def forward_prop(W1, b1, W2, b2, X):\n",
    "    Z1 = W1.dot(X) + b1\n",
    "    A1 = ReLU(Z1)\n",
    "    Z2 = W2.dot(A1) + b2\n",
    "    A2 = softmax(Z2)\n",
    "    return Z1, A1, Z2, A2\n",
    "\n",
    "def ReLU_deriv(Z):\n",
    "    return Z > 0\n",
    "\n",
    "def one_hot(Y):\n",
    "    one_hot_Y = np.zeros((Y.size, Y.max() + 1))\n",
    "    one_hot_Y[np.arange(Y.size), Y] = 1\n",
    "    one_hot_Y = one_hot_Y.T\n",
    "    return one_hot_Y\n",
    "\n",
    "def backward_prop(Z1, A1, Z2, A2, W1, W2, X, Y):\n",
    "    one_hot_Y = one_hot(Y)\n",
    "    dZ2 = A2 - one_hot_Y\n",
    "    dW2 = 1 / m * dZ2.dot(A1.T)\n",
    "    db2 = 1 / m * np.sum(dZ2)\n",
    "    dZ1 = W2.T.dot(dZ2) * ReLU_deriv(Z1)\n",
    "    dW1 = 1 / m * dZ1.dot(X.T)\n",
    "    db1 = 1 / m * np.sum(dZ1)\n",
    "    return dW1, db1, dW2, db2\n",
    "\n",
    "def update_params(W1, b1, W2, b2, dW1, db1, dW2, db2, alpha):\n",
    "    W1 = W1 - alpha * dW1\n",
    "    b1 = b1 - alpha * db1    \n",
    "    W2 = W2 - alpha * dW2  \n",
    "    b2 = b2 - alpha * db2    \n",
    "    return W1, b1, W2, b2"
   ]
  },
  {
   "cell_type": "code",
   "execution_count": 7,
   "id": "bfa094a8",
   "metadata": {
    "execution": {
     "iopub.execute_input": "2024-11-10T04:59:50.562152Z",
     "iopub.status.busy": "2024-11-10T04:59:50.561764Z",
     "iopub.status.idle": "2024-11-10T04:59:50.570787Z",
     "shell.execute_reply": "2024-11-10T04:59:50.569770Z"
    },
    "papermill": {
     "duration": 0.017739,
     "end_time": "2024-11-10T04:59:50.573119",
     "exception": false,
     "start_time": "2024-11-10T04:59:50.555380",
     "status": "completed"
    },
    "tags": []
   },
   "outputs": [],
   "source": [
    "def get_predictions(A2):\n",
    "    return np.argmax(A2, 0)\n",
    "\n",
    "def get_accuracy(predictions, Y):\n",
    "    print(predictions, Y)\n",
    "    return np.sum(predictions == Y) / Y.size\n",
    "\n",
    "def gradient_descent(X, Y, alpha, iterations):\n",
    "    W1, b1, W2, b2 = init_params()\n",
    "    for i in range(iterations):\n",
    "        Z1, A1, Z2, A2 = forward_prop(W1, b1, W2, b2, X)\n",
    "        dW1, db1, dW2, db2 = backward_prop(Z1, A1, Z2, A2, W1, W2, X, Y)\n",
    "        W1, b1, W2, b2 = update_params(W1, b1, W2, b2, dW1, db1, dW2, db2, alpha)\n",
    "        if i % 10 == 0:\n",
    "            print(\"Iteration: \", i)\n",
    "            predictions = get_predictions(A2)\n",
    "            print(get_accuracy(predictions, Y))\n",
    "    return W1, b1, W2, b2"
   ]
  },
  {
   "cell_type": "code",
   "execution_count": 8,
   "id": "35334f50",
   "metadata": {
    "execution": {
     "iopub.execute_input": "2024-11-10T04:59:50.584747Z",
     "iopub.status.busy": "2024-11-10T04:59:50.584352Z",
     "iopub.status.idle": "2024-11-10T05:00:49.817371Z",
     "shell.execute_reply": "2024-11-10T05:00:49.815810Z"
    },
    "papermill": {
     "duration": 59.243627,
     "end_time": "2024-11-10T05:00:49.821936",
     "exception": false,
     "start_time": "2024-11-10T04:59:50.578309",
     "status": "completed"
    },
    "tags": []
   },
   "outputs": [
    {
     "name": "stdout",
     "output_type": "stream",
     "text": [
      "Iteration:  0\n",
      "[2 1 2 ... 2 6 2] [5 1 1 ... 7 2 7]\n",
      "0.10217073170731707\n",
      "Iteration:  10\n",
      "[7 1 1 ... 2 6 9] [5 1 1 ... 7 2 7]\n",
      "0.24160975609756097\n",
      "Iteration:  20\n",
      "[7 1 1 ... 7 6 9] [5 1 1 ... 7 2 7]\n",
      "0.31926829268292684\n",
      "Iteration:  30\n",
      "[7 1 1 ... 7 6 9] [5 1 1 ... 7 2 7]\n",
      "0.3786829268292683\n",
      "Iteration:  40\n",
      "[7 1 1 ... 7 6 9] [5 1 1 ... 7 2 7]\n",
      "0.4161219512195122\n",
      "Iteration:  50\n",
      "[7 1 1 ... 7 6 9] [5 1 1 ... 7 2 7]\n",
      "0.4444390243902439\n",
      "Iteration:  60\n",
      "[7 1 1 ... 7 6 9] [5 1 1 ... 7 2 7]\n",
      "0.4685609756097561\n",
      "Iteration:  70\n",
      "[4 1 1 ... 7 6 9] [5 1 1 ... 7 2 7]\n",
      "0.4912439024390244\n",
      "Iteration:  80\n",
      "[8 1 1 ... 7 6 9] [5 1 1 ... 7 2 7]\n",
      "0.5103414634146342\n",
      "Iteration:  90\n",
      "[8 1 1 ... 7 2 9] [5 1 1 ... 7 2 7]\n",
      "0.5353414634146342\n",
      "Iteration:  100\n",
      "[8 1 1 ... 7 2 7] [5 1 1 ... 7 2 7]\n",
      "0.5902682926829268\n",
      "Iteration:  110\n",
      "[8 1 1 ... 7 2 7] [5 1 1 ... 7 2 7]\n",
      "0.6152195121951219\n",
      "Iteration:  120\n",
      "[8 1 1 ... 7 2 7] [5 1 1 ... 7 2 7]\n",
      "0.6369756097560976\n",
      "Iteration:  130\n",
      "[8 1 1 ... 7 2 7] [5 1 1 ... 7 2 7]\n",
      "0.6543170731707317\n",
      "Iteration:  140\n",
      "[8 1 1 ... 7 2 7] [5 1 1 ... 7 2 7]\n",
      "0.6709024390243903\n",
      "Iteration:  150\n",
      "[8 1 1 ... 7 2 7] [5 1 1 ... 7 2 7]\n",
      "0.6857317073170732\n",
      "Iteration:  160\n",
      "[8 1 1 ... 7 2 7] [5 1 1 ... 7 2 7]\n",
      "0.6994634146341463\n",
      "Iteration:  170\n",
      "[8 1 1 ... 7 2 7] [5 1 1 ... 7 2 7]\n",
      "0.7111951219512195\n",
      "Iteration:  180\n",
      "[8 1 1 ... 7 2 7] [5 1 1 ... 7 2 7]\n",
      "0.7221951219512195\n",
      "Iteration:  190\n",
      "[5 1 1 ... 7 2 7] [5 1 1 ... 7 2 7]\n",
      "0.7318536585365853\n",
      "Iteration:  200\n",
      "[5 1 1 ... 7 2 7] [5 1 1 ... 7 2 7]\n",
      "0.7400731707317073\n",
      "Iteration:  210\n",
      "[5 1 1 ... 7 2 7] [5 1 1 ... 7 2 7]\n",
      "0.7470731707317073\n",
      "Iteration:  220\n",
      "[5 1 1 ... 7 2 7] [5 1 1 ... 7 2 7]\n",
      "0.7539512195121951\n",
      "Iteration:  230\n",
      "[5 1 1 ... 7 2 7] [5 1 1 ... 7 2 7]\n",
      "0.7603658536585366\n",
      "Iteration:  240\n",
      "[5 1 1 ... 7 2 7] [5 1 1 ... 7 2 7]\n",
      "0.7665609756097561\n",
      "Iteration:  250\n",
      "[5 1 1 ... 7 2 7] [5 1 1 ... 7 2 7]\n",
      "0.7722439024390244\n",
      "Iteration:  260\n",
      "[5 1 1 ... 7 2 7] [5 1 1 ... 7 2 7]\n",
      "0.7772926829268293\n",
      "Iteration:  270\n",
      "[5 1 1 ... 7 2 7] [5 1 1 ... 7 2 7]\n",
      "0.7823414634146342\n",
      "Iteration:  280\n",
      "[5 1 1 ... 7 2 7] [5 1 1 ... 7 2 7]\n",
      "0.7871951219512195\n",
      "Iteration:  290\n",
      "[5 1 1 ... 7 2 7] [5 1 1 ... 7 2 7]\n",
      "0.7919268292682927\n",
      "Iteration:  300\n",
      "[5 1 1 ... 7 2 7] [5 1 1 ... 7 2 7]\n",
      "0.795829268292683\n",
      "Iteration:  310\n",
      "[5 1 1 ... 7 2 7] [5 1 1 ... 7 2 7]\n",
      "0.7995853658536586\n",
      "Iteration:  320\n",
      "[5 1 1 ... 7 2 7] [5 1 1 ... 7 2 7]\n",
      "0.8029024390243903\n",
      "Iteration:  330\n",
      "[5 1 1 ... 7 2 7] [5 1 1 ... 7 2 7]\n",
      "0.8065853658536586\n",
      "Iteration:  340\n",
      "[5 1 1 ... 7 2 7] [5 1 1 ... 7 2 7]\n",
      "0.8095365853658537\n",
      "Iteration:  350\n",
      "[5 1 1 ... 7 2 7] [5 1 1 ... 7 2 7]\n",
      "0.8127073170731707\n",
      "Iteration:  360\n",
      "[5 1 1 ... 7 2 7] [5 1 1 ... 7 2 7]\n",
      "0.8154390243902438\n",
      "Iteration:  370\n",
      "[5 1 1 ... 7 2 7] [5 1 1 ... 7 2 7]\n",
      "0.8178048780487804\n",
      "Iteration:  380\n",
      "[5 1 1 ... 7 2 7] [5 1 1 ... 7 2 7]\n",
      "0.8207317073170731\n",
      "Iteration:  390\n",
      "[5 1 1 ... 7 2 7] [5 1 1 ... 7 2 7]\n",
      "0.8234390243902439\n",
      "Iteration:  400\n",
      "[5 1 1 ... 7 2 7] [5 1 1 ... 7 2 7]\n",
      "0.8255853658536585\n",
      "Iteration:  410\n",
      "[5 1 1 ... 7 2 7] [5 1 1 ... 7 2 7]\n",
      "0.8276829268292683\n",
      "Iteration:  420\n",
      "[5 1 1 ... 7 2 7] [5 1 1 ... 7 2 7]\n",
      "0.83\n",
      "Iteration:  430\n",
      "[5 1 1 ... 7 2 7] [5 1 1 ... 7 2 7]\n",
      "0.8319024390243902\n",
      "Iteration:  440\n",
      "[5 1 1 ... 7 2 7] [5 1 1 ... 7 2 7]\n",
      "0.8339024390243902\n",
      "Iteration:  450\n",
      "[5 1 1 ... 7 2 7] [5 1 1 ... 7 2 7]\n",
      "0.8359512195121951\n",
      "Iteration:  460\n",
      "[5 1 1 ... 7 2 7] [5 1 1 ... 7 2 7]\n",
      "0.8378536585365853\n",
      "Iteration:  470\n",
      "[5 1 1 ... 7 2 7] [5 1 1 ... 7 2 7]\n",
      "0.8393658536585366\n",
      "Iteration:  480\n",
      "[5 1 1 ... 7 2 7] [5 1 1 ... 7 2 7]\n",
      "0.8409268292682927\n",
      "Iteration:  490\n",
      "[5 1 1 ... 7 2 7] [5 1 1 ... 7 2 7]\n",
      "0.8422439024390244\n"
     ]
    }
   ],
   "source": [
    "W1,b1,W2,b2= gradient_descent(X_train,Y_train,0.12,500)"
   ]
  },
  {
   "cell_type": "code",
   "execution_count": 9,
   "id": "1f4b0d87",
   "metadata": {
    "execution": {
     "iopub.execute_input": "2024-11-10T05:00:49.866647Z",
     "iopub.status.busy": "2024-11-10T05:00:49.865256Z",
     "iopub.status.idle": "2024-11-10T05:00:49.890523Z",
     "shell.execute_reply": "2024-11-10T05:00:49.888861Z"
    },
    "papermill": {
     "duration": 0.052085,
     "end_time": "2024-11-10T05:00:49.894824",
     "exception": false,
     "start_time": "2024-11-10T05:00:49.842739",
     "status": "completed"
    },
    "tags": []
   },
   "outputs": [],
   "source": [
    "def make_predictions(X, W1, b1, W2, b2):\n",
    "    _, _, _, A2 = forward_prop(W1, b1, W2, b2, X)\n",
    "    predictions = get_predictions(A2)\n",
    "    return predictions\n",
    "\n",
    "def test_prediction(index, W1, b1, W2, b2):\n",
    "    current_image = X_train[:, index, None]\n",
    "    prediction = make_predictions(X_train[:, index, None], W1, b1, W2, b2)\n",
    "    label = Y_train[index]\n",
    "    print(\"Prediction: \", prediction)\n",
    "    print(\"Label: \", label)\n",
    "    \n",
    "    current_image = current_image.reshape((28, 28)) * 255\n",
    "    plt.gray()\n",
    "    plt.imshow(current_image, interpolation='nearest')\n",
    "    plt.show()"
   ]
  },
  {
   "cell_type": "code",
   "execution_count": 10,
   "id": "8b441466",
   "metadata": {
    "execution": {
     "iopub.execute_input": "2024-11-10T05:00:49.937772Z",
     "iopub.status.busy": "2024-11-10T05:00:49.937319Z",
     "iopub.status.idle": "2024-11-10T05:00:50.939532Z",
     "shell.execute_reply": "2024-11-10T05:00:50.938491Z"
    },
    "papermill": {
     "duration": 1.026591,
     "end_time": "2024-11-10T05:00:50.942228",
     "exception": false,
     "start_time": "2024-11-10T05:00:49.915637",
     "status": "completed"
    },
    "tags": []
   },
   "outputs": [
    {
     "name": "stdout",
     "output_type": "stream",
     "text": [
      "Prediction:  [0]\n",
      "Label:  0\n"
     ]
    },
    {
     "data": {
      "image/png": "[encoded data removed]",
      "text/plain": [
       "<Figure size 640x480 with 1 Axes>"
      ]
     },
     "metadata": {},
     "output_type": "display_data"
    },
    {
     "name": "stdout",
     "output_type": "stream",
     "text": [
      "Prediction:  [0]\n",
      "Label:  0\n"
     ]
    },
    {
     "data": {
      "image/png": "[encoded data removed]",
      "text/plain": [
       "<Figure size 640x480 with 1 Axes>"
      ]
     },
     "metadata": {},
     "output_type": "display_data"
    },
    {
     "name": "stdout",
     "output_type": "stream",
     "text": [
      "Prediction:  [7]\n",
      "Label:  7\n"
     ]
    },
    {
     "data": {
      "image/png": "[encoded data removed]",
      "text/plain": [
       "<Figure size 640x480 with 1 Axes>"
      ]
     },
     "metadata": {},
     "output_type": "display_data"
    },
    {
     "name": "stdout",
     "output_type": "stream",
     "text": [
      "Prediction:  [5]\n",
      "Label:  5\n"
     ]
    },
    {
     "data": {
      "image/png": "[encoded data removed]",
      "text/plain": [
       "<Figure size 640x480 with 1 Axes>"
      ]
     },
     "metadata": {},
     "output_type": "display_data"
    }
   ],
   "source": [
    "test_prediction(10, W1, b1, W2, b2)\n",
    "test_prediction(7, W1, b1, W2, b2)\n",
    "test_prediction(3, W1, b1, W2, b2)\n",
    "test_prediction(0, W1, b1, W2, b2)"
   ]
  },
  {
   "cell_type": "code",
   "execution_count": 11,
   "id": "ccd97f87",
   "metadata": {
    "execution": {
     "iopub.execute_input": "2024-11-10T05:00:50.967452Z",
     "iopub.status.busy": "2024-11-10T05:00:50.966472Z",
     "iopub.status.idle": "2024-11-10T05:00:51.003631Z",
     "shell.execute_reply": "2024-11-10T05:00:51.001992Z"
    },
    "papermill": {
     "duration": 0.055229,
     "end_time": "2024-11-10T05:00:51.008992",
     "exception": false,
     "start_time": "2024-11-10T05:00:50.953763",
     "status": "completed"
    },
    "tags": []
   },
   "outputs": [
    {
     "name": "stdout",
     "output_type": "stream",
     "text": [
      "[3 5 7 0 1 4 9 1 9 8 9 8 5 5 1 3 7 0 6 9 0 1 9 5 2 9 7 9 5 6 3 9 7 8 4 7 7\n",
      " 6 0 0 4 3 1 1 6 4 4 0 2 0 5 8 2 9 0 4 1 6 8 7 5 9 1 1 3 8 9 3 8 9 5 3 6 1\n",
      " 1 7 4 8 7 3 9 0 9 2 7 9 4 4 1 7 7 7 5 4 7 2 1 2 4 6 0 5 0 8 4 5 2 2 1 9 5\n",
      " 2 0 8 9 0 1 2 1 7 6 0 2 2 4 6 9 7 4 2 0 1 4 9 1 8 1 9 7 5 0 1 3 1 5 0 9 0\n",
      " 4 8 8 5 8 8 7 3 0 8 8 2 4 7 5 3 3 9 9 7 3 7 2 0 7 2 3 9 0 4 5 7 3 3 6 1 1\n",
      " 2 6 4 0 6 1 7 4 6 6 1 9 2 6 4 7 6 9 6 0 6 8 9 2 7 0 7 9 4 6 6 9 1 3 5 4 5\n",
      " 6 0 2 3 2 5 4 1 8 1 8 8 1 9 3 5 8 3 0 8 7 0 4 8 4 3 4 9 7 3 2 6 3 1 2 9 7\n",
      " 0 1 3 6 6 0 3 8 0 1 0 3 0 1 9 4 8 5 6 6 0 1 0 9 6 9 4 1 2 6 8 5 6 7 6 8 6\n",
      " 4 0 5 3 5 7 4 6 5 9 5 8 7 1 8 0 2 1 9 1 7 9 8 2 3 7 7 8 0 1 3 7 7 1 0 2 0\n",
      " 4 5 3 6 8 5 4 1 6 0 8 9 0 1 5 3 4 7 6 1 8 4 2 7 2 0 7 0 2 0 1 8 3 4 2 5 1\n",
      " 9 4 1 0 4 4 7 3 2 0 1 3 0 7 8 0 1 2 2 4 8 4 2 1 1 6 1 1 4 1 2 8 3 7 1 1 3\n",
      " 5 6 4 2 9 7 5 3 0 2 8 0 7 1 9 2 5 5 9 3 9 3 0 1 1 8 7 2 3 4 6 9 4 0 0 0 5\n",
      " 3 8 1 7 8 4 1 0 1 4 1 9 1 6 9 2 1 0 7 3 4 0 7 1 5 2 7 5 2 7 2 6 4 8 2 9 1\n",
      " 1 2 0 9 1 8 2 0 4 1 8 4 4 7 4 7 1 4 3 6 6 0 9 4 0 3 1 2 0 5 1 8 2 1 4 2 6\n",
      " 2 1 6 7 4 3 5 0 8 1 1 2 8 1 8 5 8 7 8 1 1 2 2 5 3 2 1 2 8 8 6 5 5 8 4 1 0\n",
      " 7 9 6 2 3 6 2 8 5 7 2 1 9 3 0 1 8 8 6 6 0 8 6 3 9 9 9 1 1 2 3 3 5 1 4 3 9\n",
      " 1 4 2 0 8 6 7 0 2 8 8 0 6 6 8 8 9 7 2 3 5 2 7 4 0 1 0 5 2 5 1 4 9 4 3 1 9\n",
      " 6 3 4 5 0 5 4 6 8 6 2 7 9 9 3 6 6 9 7 7 2 7 5 4 8 5 2 3 1 1 8 4 7 5 8 8 0\n",
      " 0 3 1 0 7 9 4 9 5 9 5 8 3 0 1 4 8 7 9 8 1 9 0 6 3 8 4 6 0 9 1 9 9 0 4 9 3\n",
      " 8 0 5 7 1 8 4 2 2 6 1 7 7 0 2 3 1 7 3 9 1 6 1 9 8 1 5 4 6 3 9 0 5 0 8 3 1\n",
      " 7 0 3 3 6 6 5 9 0 2 8 7 4 6 0 9 3 6 2 3 9 7 2 2 9 3 7 9 3 0 5 5 2 9 9 7 4\n",
      " 6 1 6 4 6 5 8 9 0 6 6 9 5 3 5 1 8 8 0 0 1 1 3 1 0 3 8 1 0 1 3 2 4 1 8 7 6\n",
      " 7 1 7 1 8 9 3 3 5 5 4 7 1 2 0 8 0 2 8 1 1 0 2 0 5 2 0 5 0 3 5 4 3 0 6 4 0\n",
      " 9 8 7 5 0 2 2 6 4 9 4 8 7 6 4 2 1 4 7 2 0 9 6 5 7 7 2 2 4 5 7 5 8 8 7 7 2\n",
      " 9 3 6 6 5 6 9 9 1 6 0 7 4 6 8 9 3 7 9 7 4 1 6 5 2 5 1 0 6 9 9 3 4 3 4 8 7\n",
      " 1 4 9 8 7 9 8 4 7 1 3 2 8 6 9 5 2 1 3 0 4 8 8 7 0 4 3 3 3 1 4 8 5 5 1 9 1\n",
      " 1 8 0 4 6 6 9 9 3 1 2 6 7 7 5 4 3 6 1 1 4 9 3 1 4 5 8 4 4 5 4 4 7 1 8 1 3\n",
      " 4] [9 5 7 0 1 4 9 1 9 8 9 8 5 5 1 3 7 0 6 9 0 1 7 5 2 9 7 9 9 6 3 9 7 5 4 7 7\n",
      " 6 0 0 4 3 1 1 6 4 4 0 3 0 5 3 2 4 0 4 1 6 8 7 5 9 1 1 3 8 9 3 8 9 5 3 6 1\n",
      " 1 2 9 8 7 3 9 0 9 6 9 9 9 4 1 7 7 7 5 4 7 2 1 2 4 6 0 5 0 8 2 5 2 2 1 7 8\n",
      " 5 0 8 9 0 1 2 1 7 6 0 2 2 4 6 9 7 4 2 0 1 4 9 1 8 8 9 3 5 5 1 3 1 5 0 9 0\n",
      " 4 8 8 5 8 3 9 3 0 8 8 2 4 7 5 3 3 9 7 7 2 7 2 0 7 2 3 9 0 4 5 7 3 3 6 1 1\n",
      " 2 6 4 1 6 1 7 4 6 6 1 9 2 6 4 7 6 5 6 0 6 8 9 2 7 0 9 9 4 4 6 9 1 3 5 4 5\n",
      " 6 0 2 3 2 5 4 1 8 1 8 8 1 8 3 5 8 3 0 8 7 0 4 8 4 3 6 4 7 3 2 6 3 1 2 4 7\n",
      " 0 1 3 5 6 4 3 8 0 1 0 3 0 1 9 4 8 5 6 6 0 1 0 9 6 9 4 1 2 6 8 5 6 1 6 8 6\n",
      " 4 0 9 3 5 7 4 6 5 7 5 6 7 1 8 0 4 1 9 1 7 9 2 2 3 7 7 8 0 1 3 1 7 1 0 2 0\n",
      " 4 5 3 6 8 5 5 1 6 0 8 9 2 1 5 1 4 7 4 1 8 4 2 7 2 0 7 2 2 0 1 8 3 9 2 5 1\n",
      " 9 4 1 0 4 4 7 3 2 0 1 3 5 7 5 0 8 2 2 4 5 4 2 1 1 6 1 1 4 1 2 9 3 7 1 1 3\n",
      " 5 6 4 2 9 7 5 3 0 2 8 0 7 1 9 2 5 9 9 3 9 3 0 1 1 8 7 2 3 4 6 9 4 0 0 0 5\n",
      " 3 8 1 7 8 6 1 0 1 4 2 4 1 6 9 8 1 0 7 3 9 0 7 1 5 2 7 5 2 7 2 8 4 8 6 9 1\n",
      " 1 2 4 9 1 9 2 0 4 1 8 4 4 7 4 7 1 7 3 6 6 0 9 4 0 8 1 2 0 5 1 8 2 1 9 8 6\n",
      " 2 1 6 7 4 3 8 0 8 1 1 2 8 1 8 5 8 7 7 3 1 2 5 5 3 2 1 2 3 8 6 5 5 2 4 2 0\n",
      " 7 4 6 2 3 5 2 8 5 9 2 1 4 3 0 1 5 8 6 6 0 8 6 3 9 9 9 1 1 2 3 3 5 1 4 3 3\n",
      " 1 4 2 0 8 6 7 5 2 2 8 0 6 6 8 8 9 7 2 3 5 2 7 4 0 1 0 3 2 5 1 9 4 9 3 1 9\n",
      " 6 8 4 5 0 5 4 6 1 6 2 7 9 9 3 6 6 9 7 7 8 7 5 4 9 0 4 3 1 1 8 4 7 5 3 8 0\n",
      " 0 3 1 0 7 9 9 9 8 9 5 5 8 0 1 4 8 7 4 5 1 9 0 6 3 8 4 6 0 9 5 9 9 6 4 9 3\n",
      " 8 0 5 9 1 8 4 2 2 6 1 7 7 0 9 3 1 9 3 9 1 6 1 9 3 1 5 4 6 3 4 0 5 0 9 3 1\n",
      " 7 0 3 3 6 6 5 9 0 2 8 7 4 6 0 9 3 6 2 3 4 7 8 2 9 8 7 9 3 0 5 5 2 9 7 7 4\n",
      " 6 1 6 9 6 5 8 9 0 2 6 9 3 3 5 1 5 8 0 0 1 1 3 1 0 3 8 1 0 1 3 2 4 1 1 7 6\n",
      " 7 5 7 1 8 9 3 3 5 5 4 9 1 2 6 8 0 2 8 1 1 0 2 0 4 2 0 5 0 3 3 4 3 0 3 4 0\n",
      " 7 8 7 5 0 2 2 6 4 4 4 8 7 6 4 2 1 4 7 6 0 9 6 5 7 7 2 2 4 5 9 5 8 8 7 7 2\n",
      " 9 3 6 6 5 6 9 9 1 6 0 7 4 6 5 9 3 7 9 7 4 1 6 5 2 5 1 0 6 9 9 3 9 3 4 5 7\n",
      " 1 4 9 2 7 9 8 9 7 3 8 2 8 6 4 5 2 1 3 0 4 8 8 7 0 4 3 3 3 1 9 8 5 5 1 9 1\n",
      " 1 5 0 4 6 6 9 9 3 1 2 6 7 7 5 4 3 6 1 8 4 9 3 7 4 5 7 4 4 5 4 4 7 1 8 1 5\n",
      " 9]\n"
     ]
    },
    {
     "data": {
      "text/plain": [
       "0.861"
      ]
     },
     "execution_count": 11,
     "metadata": {},
     "output_type": "execute_result"
    }
   ],
   "source": [
    "dev_predictions = make_predictions(X_dev, W1, b1, W2, b2)\n",
    "get_accuracy(dev_predictions, Y_dev)"
   ]
  }
 ],
 "metadata": {
  "kaggle": {
   "accelerator": "none",
   "dataSources": [
    {
     "databundleVersionId": 861823,
     "sourceId": 3004,
     "sourceType": "competition"
    }
   ],
   "dockerImageVersionId": 30761,
   "isGpuEnabled": false,
   "isInternetEnabled": false,
   "language": "python",
   "sourceType": "notebook"
  },
  "kernelspec": {
   "display_name": "Python 3",
   "language": "python",
   "name": "python3"
  },
  "language_info": {
   "codemirror_mode": {
    "name": "ipython",
    "version": 3
   },
   "file_extension": ".py",
   "mimetype": "text/x-python",
   "name": "python",
   "nbconvert_exporter": "python",
   "pygments_lexer": "ipython3",
   "version": "3.10.14"
  },
  "papermill": {
   "default_parameters": {},
   "duration": 69.740109,
   "end_time": "2024-11-10T05:00:51.559289",
   "environment_variables": {},
   "exception": null,
   "input_path": "__notebook__.ipynb",
   "output_path": "__notebook__.ipynb",
   "parameters": {},
   "start_time": "2024-11-10T04:59:41.819180",
   "version": "2.6.0"
  }
 },
 "nbformat": 4,
 "nbformat_minor": 5
}
